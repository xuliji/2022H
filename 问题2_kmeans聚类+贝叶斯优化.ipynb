{
 "cells": [
  {
   "cell_type": "code",
   "execution_count": null,
   "metadata": {},
   "outputs": [],
   "source": [
    "from audioop import cross\n",
    "from re import X\n",
    "import networkx as nx\n",
    "import matplotlib.pyplot as plt \n",
    "import pandas as pd\n",
    "import numpy as np\n",
    "import matplotlib as mpl\n",
    "# 贝叶斯优化\n",
    "from bayes_opt import BayesianOptimization\n",
    "mpl.rcParams['font.sans-serif'] = ['KaiTi']\n",
    "mpl.rcParams['font.serif'] = ['KaiTi']"
   ]
  },
  {
   "cell_type": "code",
   "execution_count": null,
   "metadata": {},
   "outputs": [],
   "source": [
    "# 第三张表，包含每个区的小区及小区的虚拟坐标\n",
    "data_3 = pd.read_excel('./附件3：长春市9个区交通网络数据和主要小区相关数据.xlsx', header=0, sheet_name=2, usecols=[4, 5, 7])\n",
    "# 小区横坐标，小区纵坐标\n",
    "village_x, village_y = list(data_3['小区横坐标'].values), list(data_3['小区纵坐标'].values)\n",
    "village_pos_1 = np.array([list(pos) for pos in zip(village_x, village_y)])"
   ]
  },
  {
   "cell_type": "code",
   "execution_count": null,
   "metadata": {},
   "outputs": [],
   "source": [
    "from sklearn.cluster import KMeans\n",
    "from sklearn.metrics import silhouette_score\n",
    "# KMeans聚类\n",
    "def rf_cv(n_clusters, n_init, max_iter):\n",
    "    model = KMeans(n_clusters=int(n_clusters), n_init=int(n_init), max_iter=int(max_iter))\n",
    "    model.fit(village_pos_1)\n",
    "    label = model.labels_\n",
    "    val = silhouette_score(village_pos_1, label)\n",
    "    return val\n"
   ]
  },
  {
   "cell_type": "code",
   "execution_count": null,
   "metadata": {},
   "outputs": [],
   "source": [
    "pbounds = {\n",
    "    'n_clusters':(70, 140),\n",
    "    'n_init':(10, 50),\n",
    "    'max_iter':(300, 1000)\n",
    "}\n",
    "optimizer = BayesianOptimization(\n",
    "    f=rf_cv,  # 黑盒目标函数\n",
    "    pbounds=pbounds,  # 取值空间\n",
    "    verbose=2,  # verbose = 2 时打印全部，verbose = 1 时打印运行中发现的最大值，verbose = 0 将什么都不打印\n",
    "    random_state=1,\n",
    ")\n",
    "optimizer.maximize(  # 运行\n",
    "    init_points=5,  # 随机搜索的步数\n",
    "    n_iter=1000,  # 执行贝叶斯优化迭代次数\n",
    ")\n",
    "print(optimizer.max)"
   ]
  },
  {
   "cell_type": "code",
   "execution_count": null,
   "metadata": {},
   "outputs": [],
   "source": []
  },
  {
   "cell_type": "code",
   "execution_count": null,
   "metadata": {},
   "outputs": [],
   "source": []
  },
  {
   "cell_type": "code",
   "execution_count": null,
   "metadata": {},
   "outputs": [],
   "source": []
  }
 ],
 "metadata": {
  "kernelspec": {
   "display_name": "Python 3.9.12 ('pytorch')",
   "language": "python",
   "name": "python3"
  },
  "language_info": {
   "codemirror_mode": {
    "name": "ipython",
    "version": 3
   },
   "file_extension": ".py",
   "mimetype": "text/x-python",
   "name": "python",
   "nbconvert_exporter": "python",
   "pygments_lexer": "ipython3",
   "version": "3.9.12"
  },
  "orig_nbformat": 4,
  "vscode": {
   "interpreter": {
    "hash": "2d991c47dd0537b3a1a8184a0f9e080ced096a8d396652cfaa9c4bcddf8bdd45"
   }
  }
 },
 "nbformat": 4,
 "nbformat_minor": 2
}
