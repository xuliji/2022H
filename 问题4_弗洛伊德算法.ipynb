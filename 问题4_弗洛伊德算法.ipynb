{
 "cells": [
  {
   "cell_type": "markdown",
   "metadata": {},
   "source": [
    "### 以宽城区为例进行K-means聚类得到集散地数量"
   ]
  },
  {
   "cell_type": "code",
   "execution_count": 5,
   "metadata": {},
   "outputs": [],
   "source": [
    "from audioop import cross\n",
    "from re import X\n",
    "import networkx as nx\n",
    "import matplotlib.pyplot as plt \n",
    "import pandas as pd\n",
    "import numpy as np\n",
    "import matplotlib as mpl\n",
    "# 贝叶斯优化\n",
    "from bayes_opt import BayesianOptimization\n",
    "mpl.rcParams['font.sans-serif'] = ['KaiTi']\n",
    "mpl.rcParams['font.serif'] = ['KaiTi']\n"
   ]
  },
  {
   "cell_type": "code",
   "execution_count": 6,
   "metadata": {},
   "outputs": [],
   "source": [
    "# 宽城区\n",
    "data_1 = pd.read_excel('./配送点和管理小区汇总.xlsx', sheet_name=0, header=0)\n",
    "data_2 = data_1.iloc[:168, 4:6].values\n",
    "\n"
   ]
  },
  {
   "cell_type": "code",
   "execution_count": 7,
   "metadata": {},
   "outputs": [],
   "source": [
    "# from sklearn.cluster import KMeans\n",
    "# from sklearn.metrics import silhouette_score\n",
    "# def rf_cv(n_clusters, n_init, max_iter):\n",
    "#     model = KMeans(n_clusters=int(n_clusters), n_init=int(n_init), max_iter=int(max_iter))\n",
    "#     model.fit(data_2)\n",
    "#     label = model.labels_\n",
    "#     val = silhouette_score(data_2, label)\n",
    "#     return val"
   ]
  },
  {
   "cell_type": "code",
   "execution_count": 9,
   "metadata": {},
   "outputs": [],
   "source": [
    "# pbounds = {\n",
    "#     'n_clusters':(2, 84),\n",
    "#     'n_init':(10, 50),\n",
    "#     'max_iter':(300, 500)\n",
    "# }\n",
    "# optimizer = BayesianOptimization(\n",
    "#     f=rf_cv,  # 黑盒目标函数\n",
    "#     pbounds=pbounds,  # 取值空间\n",
    "#     verbose=2,  # verbose = 2 时打印全部，verbose = 1 时打印运行中发现的最大值，verbose = 0 将什么都不打印\n",
    "#     random_state=1,\n",
    "# )\n",
    "# optimizer.maximize(  # 运行\n",
    "#     init_points=5,  # 随机搜索的步数\n",
    "#     n_iter=300,  # 执行贝叶斯优化迭代次数\n",
    "# )\n",
    "# print(optimizer.max)"
   ]
  },
  {
   "cell_type": "code",
   "execution_count": 10,
   "metadata": {},
   "outputs": [
    {
     "data": {
      "text/plain": [
       "array([[57.06461538, 58.13615385],\n",
       "       [48.64888889, 64.21111111],\n",
       "       [59.115     , 67.25625   ],\n",
       "       [57.84909091, 51.20454545],\n",
       "       [62.68333333, 50.49888889],\n",
       "       [54.25      , 55.31857143],\n",
       "       [63.18333333, 59.64166667],\n",
       "       [55.374     , 60.64333333],\n",
       "       [64.575     , 65.06      ],\n",
       "       [45.96111111, 61.35111111],\n",
       "       [49.66333333, 68.31      ],\n",
       "       [51.74384615, 65.11846154],\n",
       "       [51.07733333, 62.53266667],\n",
       "       [53.20363636, 51.03454545],\n",
       "       [53.885     , 69.08125   ],\n",
       "       [58.81846154, 62.78461538],\n",
       "       [61.145     , 56.445625  ]])"
      ]
     },
     "execution_count": 10,
     "metadata": {},
     "output_type": "execute_result"
    }
   ],
   "source": [
    "from sklearn.cluster import KMeans\n",
    "# KMeans聚类\n",
    "model = KMeans(n_clusters=17, max_iter=379, n_init=13)\n",
    "model.fit(data_2)\n",
    "centers = model.cluster_centers_\n",
    "centers"
   ]
  },
  {
   "cell_type": "code",
   "execution_count": null,
   "metadata": {},
   "outputs": [],
   "source": []
  },
  {
   "cell_type": "code",
   "execution_count": null,
   "metadata": {},
   "outputs": [],
   "source": []
  }
 ],
 "metadata": {
  "kernelspec": {
   "display_name": "Python 3.9.12 ('pytorch')",
   "language": "python",
   "name": "python3"
  },
  "language_info": {
   "codemirror_mode": {
    "name": "ipython",
    "version": 3
   },
   "file_extension": ".py",
   "mimetype": "text/x-python",
   "name": "python",
   "nbconvert_exporter": "python",
   "pygments_lexer": "ipython3",
   "version": "3.9.12"
  },
  "orig_nbformat": 4,
  "vscode": {
   "interpreter": {
    "hash": "2d991c47dd0537b3a1a8184a0f9e080ced096a8d396652cfaa9c4bcddf8bdd45"
   }
  }
 },
 "nbformat": 4,
 "nbformat_minor": 2
}
