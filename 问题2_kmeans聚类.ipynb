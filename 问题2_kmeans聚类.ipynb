{
 "cells": [
  {
   "cell_type": "code",
   "execution_count": null,
   "metadata": {},
   "outputs": [],
   "source": [
    "from audioop import cross\n",
    "from re import X\n",
    "import networkx as nx\n",
    "import matplotlib.pyplot as plt \n",
    "import pandas as pd\n",
    "import numpy as np\n",
    "import matplotlib as mpl\n",
    "mpl.rcParams['font.sans-serif'] = ['KaiTi']\n",
    "mpl.rcParams['font.serif'] = ['KaiTi']"
   ]
  },
  {
   "cell_type": "code",
   "execution_count": null,
   "metadata": {},
   "outputs": [],
   "source": [
    "# 第一张表，包含路口的虚拟坐标\n",
    "data_1 = pd.read_excel('./附件3：长春市9个区交通网络数据和主要小区相关数据.xlsx', header=0, sheet_name=0, usecols=[0, 1, 2])\n",
    "\n",
    "\n",
    "# 第二张表，包含两个路口间的连接情况和距离\n",
    "data_2 = pd.read_excel('./附件3：长春市9个区交通网络数据和主要小区相关数据.xlsx', header=0, sheet_name=1, usecols=[1, 2, 3])\n",
    "\n",
    "\n",
    "# 第三张表，包含每个区的小区及小区的虚拟坐标\n",
    "data_3 = pd.read_excel('./附件3：长春市9个区交通网络数据和主要小区相关数据.xlsx', header=0, sheet_name=2, usecols=[4, 5, 7])\n",
    "\n",
    "\n",
    "# 路口编号，路口横坐标，路口纵坐标\n",
    "cross_list, cross_x, cross_y = list(data_1['节点编号'].values), list(data_1['路口横坐标'].values), list(data_1['路口纵坐标'].values)\n",
    "cross_pos = [pos for pos in zip(cross_x, cross_y)]\n",
    "\n",
    "# 路线起点， 路线终点， 路线距离\n",
    "start, end, length = list(data_2['路线起点'].values), list(data_2['路线终点'].values), list(data_2['路线距离(m)'].values)\n",
    "edges = [z for z in zip(start, end)]\n",
    "\n",
    "# 小区横坐标，小区纵坐标\n",
    "village_x, village_y = list(data_3['小区横坐标'].values), list(data_3['小区纵坐标'].values)\n",
    "village_pos = [pos for pos in zip(village_x, village_y)]\n",
    "village_pos_1 = np.array([list(pos) for pos in zip(village_x, village_y)])"
   ]
  },
  {
   "cell_type": "code",
   "execution_count": null,
   "metadata": {},
   "outputs": [],
   "source": [
    "from sklearn.cluster import KMeans\n",
    "# KMeans聚类\n",
    "model = KMeans(n_clusters=79, max_iter=672, n_init=12)\n",
    "model.fit(village_pos_1)\n",
    "centers_0 = model.cluster_centers_\n",
    "labels=model.labels_\n",
    "centers = [tuple(i) for i in list(centers_0)]\n",
    "np.savetxt('./K_Means结果/label.txt', labels, fmt='%d')\n",
    "np.savetxt('./K_Means结果/centers_x.txt', centers_0[:,0], fmt='%.2f')\n",
    "np.savetxt('./K_Means结果/centers_y.txt', centers_0[:,1], fmt='%.2f')\n",
    "labels"
   ]
  }
 ],
 "metadata": {
  "kernelspec": {
   "display_name": "Python 3.9.12 ('pytorch')",
   "language": "python",
   "name": "python3"
  },
  "language_info": {
   "codemirror_mode": {
    "name": "ipython",
    "version": 3
   },
   "file_extension": ".py",
   "mimetype": "text/x-python",
   "name": "python",
   "nbconvert_exporter": "python",
   "pygments_lexer": "ipython3",
   "version": "3.9.12"
  },
  "orig_nbformat": 4,
  "vscode": {
   "interpreter": {
    "hash": "2d991c47dd0537b3a1a8184a0f9e080ced096a8d396652cfaa9c4bcddf8bdd45"
   }
  }
 },
 "nbformat": 4,
 "nbformat_minor": 2
}
