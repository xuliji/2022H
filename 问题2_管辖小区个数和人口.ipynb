{
 "cells": [
  {
   "cell_type": "code",
   "execution_count": 5,
   "metadata": {},
   "outputs": [],
   "source": [
    "from audioop import cross\n",
    "from re import X\n",
    "import networkx as nx\n",
    "import matplotlib.pyplot as plt \n",
    "import pandas as pd\n",
    "import numpy as np\n",
    "import matplotlib as mpl\n",
    "mpl.rcParams['font.sans-serif'] = ['KaiTi']\n",
    "mpl.rcParams['font.serif'] = ['KaiTi']"
   ]
  },
  {
   "cell_type": "code",
   "execution_count": 6,
   "metadata": {},
   "outputs": [],
   "source": [
    "# 配送点服务人数\n",
    "data_3 = pd.read_excel('./配送点和管理小区汇总.xlsx', sheet_name=0)\n",
    "data_4 = data_3.groupby(data_3['配送点序号'])['小区人口数（人）'].sum()\n",
    "data_4.to_excel('./问题2_配送点服务人数.xlsx')"
   ]
  },
  {
   "cell_type": "code",
   "execution_count": 7,
   "metadata": {},
   "outputs": [],
   "source": [
    "# 配送点服务小区\n",
    "data_5 = data_3.groupby(data_3['配送点序号'])['用于计算小区个数'].sum()\n",
    "data_5\n",
    "data_5.to_excel('./问题2_配送点服务小区个数.xlsx')"
   ]
  },
  {
   "cell_type": "code",
   "execution_count": 23,
   "metadata": {},
   "outputs": [],
   "source": [
    "from collections import Counter\n",
    "# 配送点所属区域\n",
    "locations = []\n",
    "data_6 = data_3.iloc[:, -3:-1].values\n",
    "for i in range(79):\n",
    "    index, _ = np.where(data_6 == i)\n",
    "    temp_list = data_6[index, 0]\n",
    "    result = Counter(temp_list)\n",
    "    location = max(zip(result.values(), result.keys()))\n",
    "    locations.append(location[1])\n",
    "np.savetxt('./问题2_配送点所属区域.txt', locations, fmt='%s', encoding='utf-8')"
   ]
  }
 ],
 "metadata": {
  "kernelspec": {
   "display_name": "Python 3.9.12 ('pytorch')",
   "language": "python",
   "name": "python3"
  },
  "language_info": {
   "codemirror_mode": {
    "name": "ipython",
    "version": 3
   },
   "file_extension": ".py",
   "mimetype": "text/x-python",
   "name": "python",
   "nbconvert_exporter": "python",
   "pygments_lexer": "ipython3",
   "version": "3.9.12"
  },
  "orig_nbformat": 4,
  "vscode": {
   "interpreter": {
    "hash": "2d991c47dd0537b3a1a8184a0f9e080ced096a8d396652cfaa9c4bcddf8bdd45"
   }
  }
 },
 "nbformat": 4,
 "nbformat_minor": 2
}
